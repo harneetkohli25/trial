{
    "metadata": {
        "kernelspec": {
            "name": "python3",
            "display_name": "Python 3 (ipykernel)",
            "language": "python"
        },
        "language_info": {
            "name": "python",
            "version": "3.8.10",
            "mimetype": "text/x-python",
            "codemirror_mode": {
                "name": "ipython",
                "version": 3
            },
            "pygments_lexer": "ipython3",
            "nbconvert_exporter": "python",
            "file_extension": ".py"
        }
    },
    "nbformat_minor": 2,
    "nbformat": 4,
    "cells": [
        {
            "cell_type": "markdown",
            "source": [
                "# Python data manipulation exercise - Airline Performance Analysis"
            ],
            "metadata": {
                "azdata_cell_guid": "f2c421d9-758c-4d58-a859-9d7723961957"
            }
        },
        {
            "cell_type": "markdown",
            "source": [
                "## Problem\n",
                "\n",
                "Airlines are always run on tight schedules and very thin operating margins. To top this, the customers are extremely demanding expecting their flights to be on time always. Airline carriers try to overcome this challenge by detailed planning and prompt execution. However, there are factors like weather, technical glitches, unexpected challenges at airports which end up causing delay in arrival or departure of aircrafts. Since, the flights hop multiple cities any delay caused at one nodal city adds up and results in significant delays in subsequent stoppages if not taken care of early. \n",
                "\n",
                "## What is expected from you?\n",
                "You have been provided with 3 datasets : \n",
                "1. airline-performance.csv\n",
                "2. air-carrier-details.csv\n",
                "3. airports.csv\n",
                "\n",
                "Below are a set of questions of interest related to the problem statement at hand. Leverage your Python data wrangling skills to solve them"
            ],
            "metadata": {
                "azdata_cell_guid": "b3330ba7-e99c-4e08-ba4f-cfbb42e0bb03"
            }
        },
        {
            "cell_type": "markdown",
            "source": [
                "## Prepare the datasets to process :"
            ],
            "metadata": {
                "azdata_cell_guid": "c44e0757-b3d1-4cd7-851c-9e954a3f6e0b"
            },
            "attachments": {}
        },
        {
            "cell_type": "code",
            "source": [
                "import pandas as pd"
            ],
            "metadata": {
                "trusted": true,
                "azdata_cell_guid": "3021a9f1-bb82-48b4-ac5e-e340fb6c19cc",
                "language": "python"
            },
            "outputs": [],
            "execution_count": 1
        },
        {
            "cell_type": "code",
            "source": [
                "air = pd.read_csv('https://mentorskool-platform-uploads.s3.ap-south-1.amazonaws.com/documents/79b3b282-766e-4e48-8004-84289ca6344c_83d04ac6-cb74-4a96-a06a-e0d5442aa126_airline-performance.csv')"
            ],
            "metadata": {
                "trusted": true,
                "azdata_cell_guid": "014b6b6c-5b6b-4104-a08c-ef1991044660",
                "language": "python"
            },
            "outputs": [],
            "execution_count": 2
        },
        {
            "cell_type": "code",
            "source": [
                "air.columns"
            ],
            "metadata": {
                "trusted": true,
                "azdata_cell_guid": "3d40fb9a-4a09-409e-a749-9297c05058e9",
                "language": "python"
            },
            "outputs": [
                {
                    "output_type": "execute_result",
                    "execution_count": 8,
                    "data": {
                        "text/plain": "Index(['RowNo', 'Month', 'DayofMonth', 'DayOfWeek', 'DepTime', 'ShDepTime',\n       'ArrTime', 'ShArrTime', 'UniqueCarrierCode', 'FlightNum', 'TailNum',\n       'ActualElapsedTime', 'ShElapsedTime', 'AirTime', 'ArrDelay', 'DepDelay',\n       'OriginCode', 'DestCode', 'Distance', 'TaxiIn', 'TaxiOut', 'Cancelled',\n       'CancellationCode', 'Diverted', 'CarrierDelay', 'WeatherDelay',\n       'NASDelay', 'SecurityDelay', 'LateAircraftDelay'],\n      dtype='object')"
                    },
                    "metadata": {}
                }
            ],
            "execution_count": 8
        },
        {
            "cell_type": "code",
            "source": [
                "air.head()"
            ],
            "metadata": {
                "trusted": true,
                "azdata_cell_guid": "15716309-c324-4170-957e-ac5c4728e5b5",
                "language": "python"
            },
            "outputs": [
                {
                    "output_type": "execute_result",
                    "execution_count": 15,
                    "data": {
                        "text/plain": "   RowNo  Month  DayofMonth  DayOfWeek  DepTime  ShDepTime  ArrTime  \\\n0      1      9          16          2   1725.0       1730   1857.0   \n1      2      9          28          7   1706.0       1635   1920.0   \n2      3      2          11          1    919.0        915   1021.0   \n3      4     12          26          5   1912.0       1915   2144.0   \n4      5      8           3          7   2223.0       2230    630.0   \n\n   ShArrTime UniqueCarrierCode  FlightNum        ...         TaxiIn  TaxiOut  \\\n0     1909.0                CO       1197        ...            9.0     20.0   \n1     1905.0                WN        251        ...            6.0      9.0   \n2     1022.0                MQ       3263        ...            1.0     19.0   \n3     2150.0                MQ       3436        ...            5.0     13.0   \n4      658.0                B6        174        ...            3.0     14.0   \n\n   Cancelled  CancellationCode  Diverted  CarrierDelay WeatherDelay NASDelay  \\\n0          0               NaN         0           NaN          NaN      NaN   \n1          0               NaN         0           3.0          0.0      0.0   \n2          0               NaN         0           NaN          NaN      NaN   \n3          0               NaN         0           NaN          NaN      NaN   \n4          0               NaN         0           NaN          NaN      NaN   \n\n   SecurityDelay  LateAircraftDelay  \n0            NaN                NaN  \n1            0.0               12.0  \n2            NaN                NaN  \n3            NaN                NaN  \n4            NaN                NaN  \n\n[5 rows x 29 columns]",
                        "text/html": "<div>\n<table border=\"1\" class=\"dataframe\">\n  <thead>\n    <tr style=\"text-align: right;\">\n      <th></th>\n      <th>RowNo</th>\n      <th>Month</th>\n      <th>DayofMonth</th>\n      <th>DayOfWeek</th>\n      <th>DepTime</th>\n      <th>ShDepTime</th>\n      <th>ArrTime</th>\n      <th>ShArrTime</th>\n      <th>UniqueCarrierCode</th>\n      <th>FlightNum</th>\n      <th>...</th>\n      <th>TaxiIn</th>\n      <th>TaxiOut</th>\n      <th>Cancelled</th>\n      <th>CancellationCode</th>\n      <th>Diverted</th>\n      <th>CarrierDelay</th>\n      <th>WeatherDelay</th>\n      <th>NASDelay</th>\n      <th>SecurityDelay</th>\n      <th>LateAircraftDelay</th>\n    </tr>\n  </thead>\n  <tbody>\n    <tr>\n      <th>0</th>\n      <td>1</td>\n      <td>9</td>\n      <td>16</td>\n      <td>2</td>\n      <td>1725.0</td>\n      <td>1730</td>\n      <td>1857.0</td>\n      <td>1909.0</td>\n      <td>CO</td>\n      <td>1197</td>\n      <td>...</td>\n      <td>9.0</td>\n      <td>20.0</td>\n      <td>0</td>\n      <td>NaN</td>\n      <td>0</td>\n      <td>NaN</td>\n      <td>NaN</td>\n      <td>NaN</td>\n      <td>NaN</td>\n      <td>NaN</td>\n    </tr>\n    <tr>\n      <th>1</th>\n      <td>2</td>\n      <td>9</td>\n      <td>28</td>\n      <td>7</td>\n      <td>1706.0</td>\n      <td>1635</td>\n      <td>1920.0</td>\n      <td>1905.0</td>\n      <td>WN</td>\n      <td>251</td>\n      <td>...</td>\n      <td>6.0</td>\n      <td>9.0</td>\n      <td>0</td>\n      <td>NaN</td>\n      <td>0</td>\n      <td>3.0</td>\n      <td>0.0</td>\n      <td>0.0</td>\n      <td>0.0</td>\n      <td>12.0</td>\n    </tr>\n    <tr>\n      <th>2</th>\n      <td>3</td>\n      <td>2</td>\n      <td>11</td>\n      <td>1</td>\n      <td>919.0</td>\n      <td>915</td>\n      <td>1021.0</td>\n      <td>1022.0</td>\n      <td>MQ</td>\n      <td>3263</td>\n      <td>...</td>\n      <td>1.0</td>\n      <td>19.0</td>\n      <td>0</td>\n      <td>NaN</td>\n      <td>0</td>\n      <td>NaN</td>\n      <td>NaN</td>\n      <td>NaN</td>\n      <td>NaN</td>\n      <td>NaN</td>\n    </tr>\n    <tr>\n      <th>3</th>\n      <td>4</td>\n      <td>12</td>\n      <td>26</td>\n      <td>5</td>\n      <td>1912.0</td>\n      <td>1915</td>\n      <td>2144.0</td>\n      <td>2150.0</td>\n      <td>MQ</td>\n      <td>3436</td>\n      <td>...</td>\n      <td>5.0</td>\n      <td>13.0</td>\n      <td>0</td>\n      <td>NaN</td>\n      <td>0</td>\n      <td>NaN</td>\n      <td>NaN</td>\n      <td>NaN</td>\n      <td>NaN</td>\n      <td>NaN</td>\n    </tr>\n    <tr>\n      <th>4</th>\n      <td>5</td>\n      <td>8</td>\n      <td>3</td>\n      <td>7</td>\n      <td>2223.0</td>\n      <td>2230</td>\n      <td>630.0</td>\n      <td>658.0</td>\n      <td>B6</td>\n      <td>174</td>\n      <td>...</td>\n      <td>3.0</td>\n      <td>14.0</td>\n      <td>0</td>\n      <td>NaN</td>\n      <td>0</td>\n      <td>NaN</td>\n      <td>NaN</td>\n      <td>NaN</td>\n      <td>NaN</td>\n      <td>NaN</td>\n    </tr>\n  </tbody>\n</table>\n<p>5 rows × 29 columns</p>\n</div>"
                    },
                    "metadata": {}
                }
            ],
            "execution_count": 15
        },
        {
            "cell_type": "code",
            "source": [
                "air2 = pd.read_csv('https://mentorskool-platform-uploads.s3.ap-south-1.amazonaws.com/documents/115b2b76-112d-40db-9d31-11581a353b29_83d04ac6-cb74-4a96-a06a-e0d5442aa126_air-carrier-details.csv')"
            ],
            "metadata": {
                "trusted": true,
                "azdata_cell_guid": "e39122e7-0361-4137-8053-e636871f9edd",
                "language": "python"
            },
            "outputs": [],
            "execution_count": 4
        },
        {
            "cell_type": "code",
            "source": [
                "air2.loc[900:905,]"
            ],
            "metadata": {
                "trusted": true,
                "azdata_cell_guid": "017aac4c-6b29-4280-a7c1-e2549592f240",
                "language": "python"
            },
            "outputs": [
                {
                    "output_type": "execute_result",
                    "execution_count": 25,
                    "data": {
                        "text/plain": "      Code                     Description\n900  19932  Apa International Air S.A.: 7P\n901  19933             Air New Zealand: NZ\n902  19934           Das Air Cargo: SE (1)\n903  19935              Star Aviation: SRA\n904  19936       Territorial Airlines: TRR\n905  19937             Loken Aviation: LKN",
                        "text/html": "<div>\n<table border=\"1\" class=\"dataframe\">\n  <thead>\n    <tr style=\"text-align: right;\">\n      <th></th>\n      <th>Code</th>\n      <th>Description</th>\n    </tr>\n  </thead>\n  <tbody>\n    <tr>\n      <th>900</th>\n      <td>19932</td>\n      <td>Apa International Air S.A.: 7P</td>\n    </tr>\n    <tr>\n      <th>901</th>\n      <td>19933</td>\n      <td>Air New Zealand: NZ</td>\n    </tr>\n    <tr>\n      <th>902</th>\n      <td>19934</td>\n      <td>Das Air Cargo: SE (1)</td>\n    </tr>\n    <tr>\n      <th>903</th>\n      <td>19935</td>\n      <td>Star Aviation: SRA</td>\n    </tr>\n    <tr>\n      <th>904</th>\n      <td>19936</td>\n      <td>Territorial Airlines: TRR</td>\n    </tr>\n    <tr>\n      <th>905</th>\n      <td>19937</td>\n      <td>Loken Aviation: LKN</td>\n    </tr>\n  </tbody>\n</table>\n</div>"
                    },
                    "metadata": {}
                }
            ],
            "execution_count": 25
        },
        {
            "cell_type": "code",
            "source": [
                "air3 = pd.read_csv('https://mentorskool-platform-uploads.s3.ap-south-1.amazonaws.com/documents/5b30b88a-397f-4bc3-b03c-6bae6484088e_83d04ac6-cb74-4a96-a06a-e0d5442aa126_airports.csv')"
            ],
            "metadata": {
                "trusted": true,
                "azdata_cell_guid": "13bb49a7-03b2-4455-8d80-4a432d8c01c9",
                "language": "python"
            },
            "outputs": [],
            "execution_count": 10
        },
        {
            "cell_type": "code",
            "source": [
                "air3.loc[6000:6005,]"
            ],
            "metadata": {
                "trusted": true,
                "azdata_cell_guid": "cae2eba6-1fdc-4421-9268-bfd4a65df2c1",
                "language": "python"
            },
            "outputs": [
                {
                    "output_type": "execute_result",
                    "execution_count": 26,
                    "data": {
                        "text/plain": "     Code                       Description\n6000  WUJ  Duchesne, UT: Duchesne Municipal\n6001  WUQ            Ocean Shores, WA: Avco\n6002  WUU     Wau, South Sudan: Wau Airport\n6003  WUX             Wuxi, China: Shuofang\n6004  WV1  Charleston, WV: Mcs-Pad Heliport\n6005  WV2           Logan, WV: Logan County",
                        "text/html": "<div>\n<table border=\"1\" class=\"dataframe\">\n  <thead>\n    <tr style=\"text-align: right;\">\n      <th></th>\n      <th>Code</th>\n      <th>Description</th>\n    </tr>\n  </thead>\n  <tbody>\n    <tr>\n      <th>6000</th>\n      <td>WUJ</td>\n      <td>Duchesne, UT: Duchesne Municipal</td>\n    </tr>\n    <tr>\n      <th>6001</th>\n      <td>WUQ</td>\n      <td>Ocean Shores, WA: Avco</td>\n    </tr>\n    <tr>\n      <th>6002</th>\n      <td>WUU</td>\n      <td>Wau, South Sudan: Wau Airport</td>\n    </tr>\n    <tr>\n      <th>6003</th>\n      <td>WUX</td>\n      <td>Wuxi, China: Shuofang</td>\n    </tr>\n    <tr>\n      <th>6004</th>\n      <td>WV1</td>\n      <td>Charleston, WV: Mcs-Pad Heliport</td>\n    </tr>\n    <tr>\n      <th>6005</th>\n      <td>WV2</td>\n      <td>Logan, WV: Logan County</td>\n    </tr>\n  </tbody>\n</table>\n</div>"
                    },
                    "metadata": {}
                }
            ],
            "execution_count": 26
        },
        {
            "cell_type": "code",
            "source": [
                ""
            ],
            "metadata": {
                "trusted": true,
                "azdata_cell_guid": "fc1a51c5-dcbf-4839-a198-79f9c4562df9",
                "language": "python"
            },
            "outputs": [],
            "execution_count": null
        },
        {
            "cell_type": "markdown",
            "source": [
                "## Question 1\n",
                "\n",
                "- Which airline carrier is busiest in terms of volume? (Volume means number of trips made)"
            ],
            "metadata": {
                "azdata_cell_guid": "af643625-abca-4964-9a5b-19294601e4dd"
            },
            "attachments": {}
        },
        {
            "cell_type": "code",
            "source": [
                "# type your code here\n",
                ""
            ],
            "metadata": {
                "trusted": false,
                "azdata_cell_guid": "ac3d8f21-4a71-42b4-b0f6-8b712474eb8c",
                "language": "python"
            },
            "outputs": [],
            "execution_count": null
        },
        {
            "cell_type": "markdown",
            "source": [
                "## Question 2\n",
                "\n",
                "- Which city is busiest in terms of traffic?\n",
                "    - Please note that you need to print out the city names against the traffic number and not just the airport name\n",
                "    - Ex. an airport name entry looks like : **New York, NY: John F Kennedy International**. The city name from this entry is **New York**\n",
                "    - Note that Traffic means sum total of incoming and outgoing flights at an airport"
            ],
            "metadata": {
                "azdata_cell_guid": "431ce99a-7886-49ed-b4ef-7cb368e23e61"
            },
            "attachments": {}
        },
        {
            "cell_type": "code",
            "source": [
                "# type your code below\n",
                ""
            ],
            "metadata": {
                "trusted": false,
                "azdata_cell_guid": "6733dbd4-d2f0-47af-a430-8ebb33949011",
                "language": "python"
            },
            "outputs": [],
            "execution_count": 8
        },
        {
            "cell_type": "markdown",
            "source": [
                "## Question 3\n",
                "* Which carrier has got the highest air time?"
            ],
            "metadata": {
                "azdata_cell_guid": "ac5f07fc-ea66-4925-82e1-4ae42cc67f07"
            }
        },
        {
            "cell_type": "code",
            "source": [
                "# type your code below\n",
                ""
            ],
            "metadata": {
                "trusted": false,
                "azdata_cell_guid": "8c31ebd4-47b4-4865-9a1a-a2344077795f",
                "language": "python"
            },
            "outputs": [],
            "execution_count": 9
        },
        {
            "cell_type": "markdown",
            "source": [
                "## Question 4\n",
                "\n",
                "- List top 5 cities which are busiest in terms of average flights handled per day for the month of June?"
            ],
            "metadata": {
                "azdata_cell_guid": "70ec39d3-b8be-4892-9a81-f61ab4acd57e"
            },
            "attachments": {}
        },
        {
            "cell_type": "code",
            "source": [
                "# type your code below\n",
                ""
            ],
            "metadata": {
                "trusted": false,
                "azdata_cell_guid": "aa9e26e1-1f2c-43c9-a6b5-a23faa820334",
                "language": "python"
            },
            "outputs": [],
            "execution_count": 10
        }
    ]
}